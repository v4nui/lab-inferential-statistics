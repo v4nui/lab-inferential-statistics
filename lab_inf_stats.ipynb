{
 "cells": [
  {
   "cell_type": "markdown",
   "metadata": {},
   "source": [
    "### Lab | Inferential Statistics"
   ]
  },
  {
   "cell_type": "code",
   "execution_count": 3,
   "metadata": {},
   "outputs": [],
   "source": [
    "# Libraries\n",
    "import math \n",
    "import pandas as pd # manipulate dataframes\n",
    "import numpy as np # numerical python\n",
    "import matplotlib.pyplot as plt # viz\n",
    "import scipy.stats as st # stats\n",
    "import statsmodels.api as sm\n",
    "import statsmodels.formula.api as smf"
   ]
  },
  {
   "cell_type": "markdown",
   "metadata": {},
   "source": [
    "Provided info"
   ]
  },
  {
   "cell_type": "code",
   "execution_count": null,
   "metadata": {},
   "outputs": [],
   "source": [
    "# systolic blood pressure avg in mm Hg of the population(mu)\n",
    "meow = 120\n",
    "\n",
    "# sample size\n",
    "n = 100\n",
    "\n",
    "# sample avg\n",
    "x_bar = 130.1\n",
    "\n",
    "# std of the sample\n",
    "s = 21.21"
   ]
  },
  {
   "cell_type": "markdown",
   "metadata": {},
   "source": [
    "### Hypothesis\n",
    "\n",
    "Null Hypothesis(H0): Average systolic blood pressure of the population is 120mm Hg\n",
    "\n",
    "Alternate Hypothesis(H1): Average systolic blood pressure is not 120mm Hg\n",
    "\n",
    "### Hypothesis test setup\n",
    "1. Choose significance level - alpha:\n",
    "  alpha = 0.05\n",
    "\n",
    "2. Calculate the Test Statistic\n",
    "\n",
    "3. Determine the p-value\n",
    "\n",
    "4. compare our p-value with significance level\n",
    "\n",
    "Following code block will be excuting only the first 2 steps\n",
    "\n"
   ]
  },
  {
   "cell_type": "code",
   "execution_count": 11,
   "metadata": {},
   "outputs": [
    {
     "name": "stdout",
     "output_type": "stream",
     "text": [
      "Test statistic is: 4.7619\n"
     ]
    }
   ],
   "source": [
    "# t-test\n",
    "\n",
    "t_stat = (x_bar - meow) / ( s / (n ** 0.5 ))\n",
    "\n",
    "print('Test statistic is:', round(t_stat, 4))\n",
    "\n"
   ]
  }
 ],
 "metadata": {
  "kernelspec": {
   "display_name": "base",
   "language": "python",
   "name": "python3"
  },
  "language_info": {
   "codemirror_mode": {
    "name": "ipython",
    "version": 3
   },
   "file_extension": ".py",
   "mimetype": "text/x-python",
   "name": "python",
   "nbconvert_exporter": "python",
   "pygments_lexer": "ipython3",
   "version": "3.12.4"
  }
 },
 "nbformat": 4,
 "nbformat_minor": 2
}
